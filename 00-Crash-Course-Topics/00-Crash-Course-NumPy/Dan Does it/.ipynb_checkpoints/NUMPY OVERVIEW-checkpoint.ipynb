{
 "cells": [
  {
   "cell_type": "code",
   "execution_count": 2,
   "id": "3bcae7da",
   "metadata": {},
   "outputs": [],
   "source": [
    "import numpy as np"
   ]
  },
  {
   "cell_type": "code",
   "execution_count": 3,
   "id": "4f43b234",
   "metadata": {},
   "outputs": [],
   "source": [
    "mylist = [1,2,3]"
   ]
  },
  {
   "cell_type": "code",
   "execution_count": 4,
   "id": "3196c32b",
   "metadata": {},
   "outputs": [],
   "source": [
    "arr = np.array(mylist)"
   ]
  },
  {
   "cell_type": "code",
   "execution_count": 6,
   "id": "f6ed82e1",
   "metadata": {},
   "outputs": [],
   "source": [
    "# matrixes as nested lists basically\n",
    "mylist = [[1,2,3],[2,3,4],[5,6,7]]\n",
    "mymat = np.array(mylist)"
   ]
  },
  {
   "cell_type": "code",
   "execution_count": 8,
   "id": "593cf393",
   "metadata": {},
   "outputs": [
    {
     "data": {
      "text/plain": [
       "(3, 3)"
      ]
     },
     "execution_count": 8,
     "metadata": {},
     "output_type": "execute_result"
    }
   ],
   "source": [
    "mymat.shape"
   ]
  },
  {
   "cell_type": "code",
   "execution_count": 11,
   "id": "344551d2",
   "metadata": {},
   "outputs": [
    {
     "data": {
      "text/plain": [
       "array([0, 3, 6, 9])"
      ]
     },
     "execution_count": 11,
     "metadata": {},
     "output_type": "execute_result"
    }
   ],
   "source": [
    "# start inclusive end is not lst \n",
    "# start, stop, step\n",
    "np.arange(0,10)\n",
    "np.arange(0,11,3)"
   ]
  },
  {
   "cell_type": "code",
   "execution_count": 12,
   "id": "0f780ee8",
   "metadata": {},
   "outputs": [
    {
     "data": {
      "text/plain": [
       "array([0., 0., 0., 0.])"
      ]
     },
     "execution_count": 12,
     "metadata": {},
     "output_type": "execute_result"
    }
   ],
   "source": [
    "np.zeros(4) #floating point numbers"
   ]
  },
  {
   "cell_type": "code",
   "execution_count": 14,
   "id": "1204b9c1",
   "metadata": {},
   "outputs": [
    {
     "data": {
      "text/plain": [
       "array([[1., 1., 1., 1., 1., 1., 1., 1., 1., 1.],\n",
       "       [1., 1., 1., 1., 1., 1., 1., 1., 1., 1.],\n",
       "       [1., 1., 1., 1., 1., 1., 1., 1., 1., 1.],\n",
       "       [1., 1., 1., 1., 1., 1., 1., 1., 1., 1.],\n",
       "       [1., 1., 1., 1., 1., 1., 1., 1., 1., 1.]])"
      ]
     },
     "execution_count": 14,
     "metadata": {},
     "output_type": "execute_result"
    }
   ],
   "source": [
    "# can pass in tuple\n",
    "np.zeros((4,10))\n"
   ]
  },
  {
   "cell_type": "code",
   "execution_count": 15,
   "id": "f9c87f9e",
   "metadata": {},
   "outputs": [
    {
     "data": {
      "text/plain": [
       "array([[1., 1., 1., 1., 1., 1., 1., 1., 1., 1.],\n",
       "       [1., 1., 1., 1., 1., 1., 1., 1., 1., 1.],\n",
       "       [1., 1., 1., 1., 1., 1., 1., 1., 1., 1.],\n",
       "       [1., 1., 1., 1., 1., 1., 1., 1., 1., 1.],\n",
       "       [1., 1., 1., 1., 1., 1., 1., 1., 1., 1.]])"
      ]
     },
     "execution_count": 15,
     "metadata": {},
     "output_type": "execute_result"
    }
   ],
   "source": [
    "np.ones((5,10))"
   ]
  },
  {
   "cell_type": "code",
   "execution_count": 18,
   "id": "9d18113f",
   "metadata": {},
   "outputs": [
    {
     "data": {
      "text/plain": [
       "array([[5., 5., 5., 5., 5., 5., 5., 5., 5., 5.],\n",
       "       [5., 5., 5., 5., 5., 5., 5., 5., 5., 5.],\n",
       "       [5., 5., 5., 5., 5., 5., 5., 5., 5., 5.],\n",
       "       [5., 5., 5., 5., 5., 5., 5., 5., 5., 5.],\n",
       "       [5., 5., 5., 5., 5., 5., 5., 5., 5., 5.]])"
      ]
     },
     "execution_count": 18,
     "metadata": {},
     "output_type": "execute_result"
    }
   ],
   "source": [
    "# can add to stuff \n",
    "np.ones((5,10)) + 4"
   ]
  },
  {
   "cell_type": "code",
   "execution_count": 21,
   "id": "feb85740",
   "metadata": {},
   "outputs": [
    {
     "data": {
      "text/plain": [
       "array([[14., 14., 14., 14., 14., 14., 14., 14., 14., 14.],\n",
       "       [14., 14., 14., 14., 14., 14., 14., 14., 14., 14.],\n",
       "       [14., 14., 14., 14., 14., 14., 14., 14., 14., 14.],\n",
       "       [14., 14., 14., 14., 14., 14., 14., 14., 14., 14.],\n",
       "       [14., 14., 14., 14., 14., 14., 14., 14., 14., 14.]])"
      ]
     },
     "execution_count": 21,
     "metadata": {},
     "output_type": "execute_result"
    }
   ],
   "source": [
    "# or other math\n",
    "(np.ones((5,10)) +1)  * 7"
   ]
  },
  {
   "cell_type": "code",
   "execution_count": 23,
   "id": "49711bf6",
   "metadata": {},
   "outputs": [
    {
     "data": {
      "text/plain": [
       "array([ 0.        ,  3.33333333,  6.66666667, 10.        ])"
      ]
     },
     "execution_count": 23,
     "metadata": {},
     "output_type": "execute_result"
    }
   ],
   "source": [
    "# start, stop, number of items.\n",
    "# returns even spaced numbers\n",
    "np.linspace(0,10,4)"
   ]
  },
  {
   "cell_type": "markdown",
   "id": "69763529",
   "metadata": {},
   "source": [
    "## Part 2"
   ]
  },
  {
   "cell_type": "code",
   "execution_count": 27,
   "id": "d96e5933",
   "metadata": {},
   "outputs": [
    {
     "name": "stdout",
     "output_type": "stream",
     "text": [
      "[0.17842254] \n",
      "\n",
      " [0.17281178 0.02754263 0.36567965 0.95840727] \n",
      "\n",
      " [[0.06680931 0.16201423 0.76243283 0.61822552 0.53811607]\n",
      " [0.27855971 0.99601977 0.16298351 0.37389372 0.27134989]\n",
      " [0.76753584 0.6807996  0.86552638 0.55878559 0.88081212]\n",
      " [0.149305   0.60167014 0.50115418 0.46828953 0.76251186]\n",
      " [0.31210143 0.42280643 0.79916894 0.17634635 0.65608802]]\n"
     ]
    }
   ],
   "source": [
    "# rand # between 0 and 1 \n",
    "print(\n",
    "    np.random.rand(1),\n",
    "    '\\n\\n',\n",
    "    np.random.rand(4),\n",
    "    '\\n\\n',\n",
    "    np.random.rand(5,5)\n",
    ")"
   ]
  },
  {
   "cell_type": "code",
   "execution_count": 31,
   "id": "3f157a96",
   "metadata": {},
   "outputs": [
    {
     "data": {
      "text/plain": [
       "44"
      ]
     },
     "execution_count": 31,
     "metadata": {},
     "output_type": "execute_result"
    }
   ],
   "source": [
    "# randint\n",
    "#low, high, number of items to return\n",
    "np.random.randint(55)"
   ]
  },
  {
   "cell_type": "code",
   "execution_count": 32,
   "id": "5f51499e",
   "metadata": {},
   "outputs": [
    {
     "data": {
      "text/plain": [
       "array([0.37454012, 0.95071431, 0.73199394, 0.59865848])"
      ]
     },
     "execution_count": 32,
     "metadata": {},
     "output_type": "execute_result"
    }
   ],
   "source": [
    "# get the same random numbers\n",
    "# must be in same cell.\n",
    "np.random.seed(42)\n",
    "np.random.rand(4)\n"
   ]
  },
  {
   "cell_type": "code",
   "execution_count": 35,
   "id": "6c53f2d6",
   "metadata": {},
   "outputs": [
    {
     "name": "stdout",
     "output_type": "stream",
     "text": [
      "[57 21 88 48 90 58 41 91 59 79] \n",
      "\n",
      " 91 \n",
      "\n",
      " 21 \n",
      "\n",
      " 1 \n",
      "\n",
      " 7\n"
     ]
    }
   ],
   "source": [
    "# max min, argmax, argmin\n",
    "# argmax and argmin return the index location of the min/max respectably\n",
    "ranarr = np.random.randint(0,100, 10)\n",
    "print(\n",
    "    ranarr,\n",
    "    '\\n\\n',\n",
    "    ranarr.max(),\n",
    "    '\\n\\n',\n",
    "    ranarr.min(),\n",
    "    '\\n\\n',\n",
    "    ranarr.argmin(),\n",
    "    '\\n\\n',\n",
    "    ranarr.argmax()\n",
    ")"
   ]
  },
  {
   "cell_type": "code",
   "execution_count": null,
   "id": "73ff6381",
   "metadata": {},
   "outputs": [],
   "source": []
  }
 ],
 "metadata": {
  "hide_input": false,
  "kernelspec": {
   "display_name": "Python 3 (ipykernel)",
   "language": "python",
   "name": "python3"
  },
  "language_info": {
   "codemirror_mode": {
    "name": "ipython",
    "version": 3
   },
   "file_extension": ".py",
   "mimetype": "text/x-python",
   "name": "python",
   "nbconvert_exporter": "python",
   "pygments_lexer": "ipython3",
   "version": "3.7.3"
  }
 },
 "nbformat": 4,
 "nbformat_minor": 5
}
