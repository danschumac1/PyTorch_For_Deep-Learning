{
 "cells": [
  {
   "cell_type": "code",
   "execution_count": 56,
   "id": "aacb9a76",
   "metadata": {},
   "outputs": [],
   "source": [
    "import torch\n",
    "import torch.nn as nn\n",
    "import torch.nn.functional as F\n",
    "from torch.utils.data import DataLoader\n",
    "from torchvision import datasets, transforms\n",
    "import numpy as np\n",
    "import pandas as pd\n",
    "from sklearn.metrics import confusion_matrix\n",
    "import matplotlib.pyplot as plt\n",
    "%matplotlib inline"
   ]
  },
  {
   "cell_type": "code",
   "execution_count": 57,
   "id": "59d47bd2",
   "metadata": {},
   "outputs": [],
   "source": [
    "# MNIST IMAGE --> TENSOR\n",
    "transform = transforms.ToTensor()"
   ]
  },
  {
   "cell_type": "code",
   "execution_count": 58,
   "id": "f7501611",
   "metadata": {},
   "outputs": [],
   "source": [
    "# data to load\n",
    "train_data = datasets.MNIST(root='../../Data', train = True, download= True, transform=transform)\n",
    "test_data = datasets.MNIST(root='../../Data', train = False, download= True, transform=transform)"
   ]
  },
  {
   "cell_type": "code",
   "execution_count": 59,
   "id": "22074c2f",
   "metadata": {},
   "outputs": [],
   "source": [
    "torch.manual_seed(101)\n",
    "train_loader = DataLoader(train_data, batch_size=10, shuffle = True)\n",
    "test_loader = DataLoader(test_data, batch_size=10, shuffle = False)"
   ]
  },
  {
   "cell_type": "markdown",
   "id": "7fdf6d33",
   "metadata": {},
   "source": [
    "# define convolutional model"
   ]
  },
  {
   "cell_type": "code",
   "execution_count": 60,
   "id": "06a6105d",
   "metadata": {},
   "outputs": [],
   "source": [
    "conv1 = nn.Conv2d(in_channels = 1, out_channels = 6, kernel_size = 3, stride = 1)\n",
    "conv2 = nn.Conv2d(in_channels = 6, out_channels = 16, kernel_size = 3, stride = 1)\n"
   ]
  },
  {
   "cell_type": "code",
   "execution_count": 61,
   "id": "169b9da0",
   "metadata": {},
   "outputs": [],
   "source": [
    "for i, (X_train, y_train) in enumerate(train_data):\n",
    "    break"
   ]
  },
  {
   "cell_type": "code",
   "execution_count": 62,
   "id": "6ba7d691",
   "metadata": {},
   "outputs": [
    {
     "data": {
      "text/plain": [
       "torch.Size([1, 28, 28])"
      ]
     },
     "execution_count": 62,
     "metadata": {},
     "output_type": "execute_result"
    }
   ],
   "source": [
    "X_train.shape # ---> should be 4d (batch size 10)"
   ]
  },
  {
   "cell_type": "code",
   "execution_count": 63,
   "id": "68e55b80",
   "metadata": {},
   "outputs": [],
   "source": [
    "x = X_train.view(1,1,28,28)"
   ]
  },
  {
   "cell_type": "code",
   "execution_count": 64,
   "id": "da5dd995",
   "metadata": {},
   "outputs": [],
   "source": [
    "x = conv1(x)\n",
    "x = F.relu(x)"
   ]
  },
  {
   "cell_type": "code",
   "execution_count": 65,
   "id": "1f8a2da0",
   "metadata": {},
   "outputs": [
    {
     "data": {
      "text/plain": [
       "torch.Size([1, 6, 26, 26])"
      ]
     },
     "execution_count": 65,
     "metadata": {},
     "output_type": "execute_result"
    }
   ],
   "source": [
    "x.shape"
   ]
  },
  {
   "cell_type": "code",
   "execution_count": 66,
   "id": "d68ab672",
   "metadata": {},
   "outputs": [],
   "source": [
    " x = F.max_pool2d(x, kernel_size = 2, stride = 2)"
   ]
  },
  {
   "cell_type": "code",
   "execution_count": 67,
   "id": "d1fa69a2",
   "metadata": {},
   "outputs": [
    {
     "data": {
      "text/plain": [
       "torch.Size([1, 6, 13, 13])"
      ]
     },
     "execution_count": 67,
     "metadata": {},
     "output_type": "execute_result"
    }
   ],
   "source": [
    "x.shape"
   ]
  },
  {
   "cell_type": "code",
   "execution_count": 68,
   "id": "6c659038",
   "metadata": {},
   "outputs": [],
   "source": [
    "x = conv2(x)\n",
    "x = F.relu(x)"
   ]
  },
  {
   "cell_type": "code",
   "execution_count": 69,
   "id": "97948996",
   "metadata": {},
   "outputs": [
    {
     "data": {
      "text/plain": [
       "torch.Size([1, 16, 11, 11])"
      ]
     },
     "execution_count": 69,
     "metadata": {},
     "output_type": "execute_result"
    }
   ],
   "source": [
    "x.shape"
   ]
  },
  {
   "cell_type": "code",
   "execution_count": 70,
   "id": "dd2ef6b6",
   "metadata": {},
   "outputs": [],
   "source": [
    " x = F.max_pool2d(x, kernel_size = 2, stride = 2)"
   ]
  },
  {
   "cell_type": "code",
   "execution_count": 71,
   "id": "21a86120",
   "metadata": {},
   "outputs": [
    {
     "data": {
      "text/plain": [
       "torch.Size([1, 16, 5, 5])"
      ]
     },
     "execution_count": 71,
     "metadata": {},
     "output_type": "execute_result"
    }
   ],
   "source": [
    "x.shape"
   ]
  },
  {
   "cell_type": "code",
   "execution_count": 72,
   "id": "9b1494c2",
   "metadata": {},
   "outputs": [
    {
     "data": {
      "text/plain": [
       "5.5"
      ]
     },
     "execution_count": 72,
     "metadata": {},
     "output_type": "execute_result"
    }
   ],
   "source": [
    "(((28-2)/2) - 2) /2"
   ]
  },
  {
   "cell_type": "code",
   "execution_count": 73,
   "id": "4a8d3f83",
   "metadata": {},
   "outputs": [
    {
     "data": {
      "text/plain": [
       "torch.Size([1, 400])"
      ]
     },
     "execution_count": 73,
     "metadata": {},
     "output_type": "execute_result"
    }
   ],
   "source": [
    "x.view(-1, 16*5*5).shape"
   ]
  },
  {
   "cell_type": "markdown",
   "id": "42c66557",
   "metadata": {},
   "source": [
    "# creating model class\n"
   ]
  },
  {
   "cell_type": "code",
   "execution_count": 74,
   "id": "9fe63ba8",
   "metadata": {},
   "outputs": [],
   "source": [
    "class ConvolutionalNetwork(nn.Module):\n",
    "    \n",
    "    def __init__(self):\n",
    "        super().__init__()\n",
    "        self.conv1 = nn.Conv2d(1,6,3,1)\n",
    "        self.conv2 = nn.Conv2d(6,16,3,1)\n",
    "        self.fc1 = nn.Linear(5*5*16,120)\n",
    "        self.fc2 = nn.Linear(120,84)\n",
    "        self.fc3 = nn.Linear(84,10)\n",
    "        \n",
    "    def forward(self,X):\n",
    "        X = F.relu(self.conv1(X))\n",
    "        X = F.max_pool2d(X,2,2)\n",
    "        X = F.relu(self.conv2(X))\n",
    "        X = F.max_pool2d(X,2,2)\n",
    "        X = X.view(-1, 16*5*5)\n",
    "        X = self.fc1(X)\n",
    "        X = F.relu(X)\n",
    "        X = self.fc2(X)\n",
    "        X = F.relu(X)\n",
    "        X = self.fc3(X)\n",
    "        return F.log_softmax(X, dim=1)"
   ]
  },
  {
   "cell_type": "code",
   "execution_count": 75,
   "id": "47ad41fa",
   "metadata": {},
   "outputs": [
    {
     "data": {
      "text/plain": [
       "ConvolutionalNetwork(\n",
       "  (conv1): Conv2d(1, 6, kernel_size=(3, 3), stride=(1, 1))\n",
       "  (conv2): Conv2d(6, 16, kernel_size=(3, 3), stride=(1, 1))\n",
       "  (fc1): Linear(in_features=400, out_features=120, bias=True)\n",
       "  (fc2): Linear(in_features=120, out_features=84, bias=True)\n",
       "  (fc3): Linear(in_features=84, out_features=10, bias=True)\n",
       ")"
      ]
     },
     "execution_count": 75,
     "metadata": {},
     "output_type": "execute_result"
    }
   ],
   "source": [
    "torch.manual_seed(42)\n",
    "model = ConvolutionalNetwork()\n",
    "model"
   ]
  },
  {
   "cell_type": "code",
   "execution_count": 76,
   "id": "beffce44",
   "metadata": {},
   "outputs": [
    {
     "name": "stdout",
     "output_type": "stream",
     "text": [
      "54\n",
      "6\n",
      "864\n",
      "16\n",
      "48000\n",
      "120\n",
      "10080\n",
      "84\n",
      "840\n",
      "10\n"
     ]
    }
   ],
   "source": [
    "for param in model.parameters():\n",
    "    print(param.numel())"
   ]
  },
  {
   "cell_type": "code",
   "execution_count": 77,
   "id": "e669fcfb",
   "metadata": {},
   "outputs": [],
   "source": [
    "criterion = nn.CrossEntropyLoss()\n",
    "optimizer = torch.optim.Adam(model.parameters(), lr = 0.001)"
   ]
  },
  {
   "cell_type": "code",
   "execution_count": 78,
   "id": "4352bbd3",
   "metadata": {},
   "outputs": [
    {
     "name": "stdout",
     "output_type": "stream",
     "text": [
      "epoch:  0  batch:  600 [  6000/60000]  loss: 0.19477190  accuracy:  78.583%\n",
      "epoch:  0  batch: 1200 [ 12000/60000]  loss: 0.63014543  accuracy:  85.725%\n",
      "epoch:  0  batch: 1800 [ 18000/60000]  loss: 0.01575714  accuracy:  88.728%\n",
      "epoch:  0  batch: 2400 [ 24000/60000]  loss: 0.02389385  accuracy:  90.492%\n",
      "epoch:  0  batch: 3000 [ 30000/60000]  loss: 0.00737841  accuracy:  91.603%\n",
      "epoch:  0  batch: 3600 [ 36000/60000]  loss: 0.01266039  accuracy:  92.403%\n",
      "epoch:  0  batch: 4200 [ 42000/60000]  loss: 0.05842144  accuracy:  92.993%\n",
      "epoch:  0  batch: 4800 [ 48000/60000]  loss: 0.00304698  accuracy:  93.515%\n",
      "epoch:  0  batch: 5400 [ 54000/60000]  loss: 0.00043986  accuracy:  93.946%\n",
      "epoch:  0  batch: 6000 [ 60000/60000]  loss: 0.00279448  accuracy:  94.273%\n",
      "epoch:  1  batch:  600 [  6000/60000]  loss: 0.01315470  accuracy:  97.983%\n",
      "epoch:  1  batch: 1200 [ 12000/60000]  loss: 0.26916158  accuracy:  97.825%\n",
      "epoch:  1  batch: 1800 [ 18000/60000]  loss: 0.12557010  accuracy:  97.828%\n",
      "epoch:  1  batch: 2400 [ 24000/60000]  loss: 0.00202660  accuracy:  97.892%\n",
      "epoch:  1  batch: 3000 [ 30000/60000]  loss: 0.00074747  accuracy:  97.880%\n",
      "epoch:  1  batch: 3600 [ 36000/60000]  loss: 0.19835296  accuracy:  97.911%\n",
      "epoch:  1  batch: 4200 [ 42000/60000]  loss: 0.01273307  accuracy:  97.936%\n",
      "epoch:  1  batch: 4800 [ 48000/60000]  loss: 0.22677203  accuracy:  97.971%\n",
      "epoch:  1  batch: 5400 [ 54000/60000]  loss: 0.00223787  accuracy:  98.019%\n",
      "epoch:  1  batch: 6000 [ 60000/60000]  loss: 0.00370095  accuracy:  98.035%\n",
      "epoch:  2  batch:  600 [  6000/60000]  loss: 0.00270023  accuracy:  98.633%\n",
      "epoch:  2  batch: 1200 [ 12000/60000]  loss: 0.00096522  accuracy:  98.567%\n",
      "epoch:  2  batch: 1800 [ 18000/60000]  loss: 0.00017758  accuracy:  98.544%\n",
      "epoch:  2  batch: 2400 [ 24000/60000]  loss: 0.00095851  accuracy:  98.483%\n",
      "epoch:  2  batch: 3000 [ 30000/60000]  loss: 0.10048573  accuracy:  98.473%\n",
      "epoch:  2  batch: 3600 [ 36000/60000]  loss: 0.00007533  accuracy:  98.553%\n",
      "epoch:  2  batch: 4200 [ 42000/60000]  loss: 0.00190020  accuracy:  98.545%\n",
      "epoch:  2  batch: 4800 [ 48000/60000]  loss: 0.00025526  accuracy:  98.527%\n",
      "epoch:  2  batch: 5400 [ 54000/60000]  loss: 0.00104317  accuracy:  98.559%\n",
      "epoch:  2  batch: 6000 [ 60000/60000]  loss: 0.00007247  accuracy:  98.573%\n",
      "epoch:  3  batch:  600 [  6000/60000]  loss: 0.00296675  accuracy:  99.217%\n",
      "epoch:  3  batch: 1200 [ 12000/60000]  loss: 0.00029227  accuracy:  98.958%\n",
      "epoch:  3  batch: 1800 [ 18000/60000]  loss: 0.00340233  accuracy:  98.967%\n",
      "epoch:  3  batch: 2400 [ 24000/60000]  loss: 0.00181208  accuracy:  98.954%\n",
      "epoch:  3  batch: 3000 [ 30000/60000]  loss: 0.00003041  accuracy:  98.973%\n",
      "epoch:  3  batch: 3600 [ 36000/60000]  loss: 0.00082364  accuracy:  98.947%\n",
      "epoch:  3  batch: 4200 [ 42000/60000]  loss: 0.01348221  accuracy:  98.940%\n",
      "epoch:  3  batch: 4800 [ 48000/60000]  loss: 0.01538300  accuracy:  98.963%\n",
      "epoch:  3  batch: 5400 [ 54000/60000]  loss: 0.01525743  accuracy:  98.969%\n",
      "epoch:  3  batch: 6000 [ 60000/60000]  loss: 0.00080522  accuracy:  98.948%\n",
      "epoch:  4  batch:  600 [  6000/60000]  loss: 0.00080483  accuracy:  99.117%\n",
      "epoch:  4  batch: 1200 [ 12000/60000]  loss: 0.32337838  accuracy:  99.100%\n",
      "epoch:  4  batch: 1800 [ 18000/60000]  loss: 0.00109941  accuracy:  99.194%\n",
      "epoch:  4  batch: 2400 [ 24000/60000]  loss: 0.00000464  accuracy:  99.171%\n",
      "epoch:  4  batch: 3000 [ 30000/60000]  loss: 0.00046687  accuracy:  99.133%\n",
      "epoch:  4  batch: 3600 [ 36000/60000]  loss: 0.00019433  accuracy:  99.125%\n",
      "epoch:  4  batch: 4200 [ 42000/60000]  loss: 0.00016756  accuracy:  99.093%\n",
      "epoch:  4  batch: 4800 [ 48000/60000]  loss: 0.00005062  accuracy:  99.117%\n",
      "epoch:  4  batch: 5400 [ 54000/60000]  loss: 0.01235769  accuracy:  99.096%\n",
      "epoch:  4  batch: 6000 [ 60000/60000]  loss: 0.00518551  accuracy:  99.085%\n",
      "\n",
      "Duration: 120 seconds\n"
     ]
    }
   ],
   "source": [
    "import time\n",
    "start_time = time.time()\n",
    "\n",
    "epochs = 5\n",
    "train_losses = []\n",
    "test_losses = []\n",
    "train_correct = []\n",
    "test_correct = []\n",
    "\n",
    "for i in range(epochs):\n",
    "    trn_corr = 0\n",
    "    tst_corr = 0\n",
    "    \n",
    "    # Run the training batches\n",
    "    for b, (X_train, y_train) in enumerate(train_loader):\n",
    "        b+=1\n",
    "        \n",
    "        # Apply the model\n",
    "        y_pred = model(X_train)  # we don't flatten X-train here\n",
    "        loss = criterion(y_pred, y_train)\n",
    " \n",
    "        # Tally the number of correct predictions\n",
    "        predicted = torch.max(y_pred.data, 1)[1]\n",
    "        batch_corr = (predicted == y_train).sum()\n",
    "        trn_corr += batch_corr\n",
    "        \n",
    "        # Update parameters\n",
    "        optimizer.zero_grad()\n",
    "        loss.backward()\n",
    "        optimizer.step()\n",
    "        \n",
    "        # Print interim results\n",
    "        if b%600 == 0:\n",
    "            print(f'epoch: {i:2}  batch: {b:4} [{10*b:6}/60000]  loss: {loss.item():10.8f}  \\\n",
    "accuracy: {trn_corr.item()*100/(10*b):7.3f}%')\n",
    "        \n",
    "    train_losses.append(loss)\n",
    "    train_correct.append(trn_corr)\n",
    "        \n",
    "    # Run the testing batches\n",
    "    with torch.no_grad():\n",
    "        for b, (X_test, y_test) in enumerate(test_loader):\n",
    "\n",
    "            # Apply the model\n",
    "            y_val = model(X_test)\n",
    "\n",
    "            # Tally the number of correct predictions\n",
    "            predicted = torch.max(y_val.data, 1)[1] \n",
    "            tst_corr += (predicted == y_test).sum()\n",
    "            \n",
    "    loss = criterion(y_val, y_test)\n",
    "    test_losses.append(loss)\n",
    "    test_correct.append(tst_corr)\n",
    "        \n",
    "print(f'\\nDuration: {time.time() - start_time:.0f} seconds') # print the time elapsed            "
   ]
  },
  {
   "cell_type": "code",
   "execution_count": 79,
   "id": "27de1f92",
   "metadata": {},
   "outputs": [
    {
     "data": {
      "text/plain": [
       "<matplotlib.legend.Legend at 0x1e887fb96a0>"
      ]
     },
     "execution_count": 79,
     "metadata": {},
     "output_type": "execute_result"
    },
    {
     "data": {
      "image/png": "[encoded data removed]",
      "text/plain": [
       "<Figure size 640x480 with 1 Axes>"
      ]
     },
     "metadata": {},
     "output_type": "display_data"
    }
   ],
   "source": [
    "plt.plot(train_losses, label = 'train loss')\n",
    "plt.plot(test_losses, label ='val loss')\n",
    "plt.title('loss at epoch')\n",
    "plt.legend()"
   ]
  },
  {
   "cell_type": "code",
   "execution_count": 81,
   "id": "c9a03606",
   "metadata": {},
   "outputs": [],
   "source": [
    "test_load_all = DataLoader(test_data, batch_size = 10000, shuffle = False)\n",
    "with torch.no_grad():\n",
    "    correct = 0\n",
    "    for X_test, y_test, in test_load_all:\n",
    "        y_val = model(X_test)\n",
    "        predicted = torch.max(y_val,1)[1]\n",
    "        correct += (predicted == y_test).sum()\n",
    "        "
   ]
  },
  {
   "cell_type": "code",
   "execution_count": 82,
   "id": "9e5112bc",
   "metadata": {},
   "outputs": [
    {
     "data": {
      "text/plain": [
       "0.9847"
      ]
     },
     "execution_count": 82,
     "metadata": {},
     "output_type": "execute_result"
    }
   ],
   "source": [
    "correct.item()/len(test_data)"
   ]
  },
  {
   "cell_type": "code",
   "execution_count": null,
   "id": "0b09f7da",
   "metadata": {},
   "outputs": [],
   "source": []
  }
 ],
 "metadata": {
  "hide_input": false,
  "kernelspec": {
   "display_name": "Python 3 (ipykernel)",
   "language": "python",
   "name": "python3"
  },
  "language_info": {
   "codemirror_mode": {
    "name": "ipython",
    "version": 3
   },
   "file_extension": ".py",
   "mimetype": "text/x-python",
   "name": "python",
   "nbconvert_exporter": "python",
   "pygments_lexer": "ipython3",
   "version": "3.7.3"
  }
 },
 "nbformat": 4,
 "nbformat_minor": 5
}
