{
 "cells": [
  {
   "cell_type": "markdown",
   "metadata": {},
   "source": [
    "<img src=\"../../Pierian-Data-Logo.PNG\">\n",
    "<br>\n",
    "<strong><center>Copyright 2019. Created by Jose Marcial Portilla.</center></strong>"
   ]
  },
  {
   "cell_type": "markdown",
   "metadata": {
    "collapsed": true
   },
   "source": [
    "# Neural Network Exercises\n",
    "For these exercises we'll perform a binary classification on the Census Income dataset available from the <a href = 'http://archive.ics.uci.edu/ml/datasets/Adult'>UC Irvine Machine Learning Repository</a><br>\n",
    "The goal is to determine if an individual earns more than $50K based on a set of continuous and categorical variables.\n",
    "\n",
    "<div class=\"alert alert-danger\" style=\"margin: 10px\"><strong>IMPORTANT NOTE!</strong> Make sure you don't run the cells directly above the example output shown, <br>otherwise you will end up writing over the example output!</div>"
   ]
  },
  {
   "cell_type": "markdown",
   "metadata": {},
   "source": [
    "## Census Income Dataset\n",
    "For this exercises we're using the Census Income dataset available from the <a href='http://archive.ics.uci.edu/ml/datasets/Adult'>UC Irvine Machine Learning Repository</a>.\n",
    "\n",
    "The full dataset has 48,842 entries. For this exercise we have reduced the number of records, fields and field entries, and have removed entries with null values. The file <strong>income.csv</strong> has\t30,000 entries\n",
    "\n",
    "Each entry contains the following information about an individual:\n",
    "* <strong>age</strong>: the age of an individual as an integer from 18 to 90 (continuous)\n",
    "* <strong>sex</strong>: Male or Female (categorical)\n",
    "* <strong>education</strong>: represents the highest level of education achieved by an individual (categorical)\n",
    "* <strong>education_num</strong>: represents education as an integer from 3 to 16 (categorical)\n",
    "<div><table style=\"display: inline-block\">\n",
    "<tr><td>3</td><td>5th-6th</td><td>8</td><td>12th</td><td>13</td><td>Bachelors</td></tr>\n",
    "<tr><td>4</td><td>7th-8th</td><td>9</td><td>HS-grad</td><td>14</td><td>Masters</td></tr>\n",
    "<tr><td>5</td><td>9th</td><td>10</td><td>Some-college</td><td>15</td><td>Prof-school</td></tr>\n",
    "<tr><td>6</td><td>10th</td><td>11</td><td>Assoc-voc</td><td>16</td><td>Doctorate</td></tr>\n",
    "<tr><td>7</td><td>11th</td><td>12</td><td>Assoc-acdm</td></tr>\n",
    "</table></div>\n",
    "* <strong>marital-status</strong>: marital status of an individual (categorical)\n",
    "<div><table style=\"display: inline-block\">\n",
    "<tr><td>Married</td><td>Divorced</td><td>Married-spouse-absent</td></tr>\n",
    "<tr><td>Separated</td><td>Widowed</td><td>Never-married</td></tr>\n",
    "</table></div>\n",
    "* <strong>workclass</strong>: a general term to represent the employment status of an individual (categorical)\n",
    "<div><table style=\"display: inline-block\">\n",
    "<tr><td>Local-gov</td><td>Private</td></tr>\n",
    "<tr><td>State-gov</td><td>Self-emp</td></tr>\n",
    "<tr><td>Federal-gov</td></tr>\n",
    "</table></div>\n",
    "* <strong>occupation</strong>: the general type of occupation of an individual (categorical)\n",
    "<div><table style=\"display: inline-block\">\n",
    "<tr><td>Adm-clerical</td><td>Handlers-cleaners</td><td>Protective-serv</td></tr>\n",
    "<tr><td>Craft-repair</td><td>Machine-op-inspct</td><td>Sales</td></tr>\n",
    "<tr><td>Exec-managerial</td><td>Other-service</td><td>Tech-support</td></tr>\n",
    "<tr><td>Farming-fishing</td><td>Prof-specialty</td><td>Transport-moving</td></tr>\n",
    "</table></div>\n",
    "* <strong>hours-per-week</strong>: the hours an individual has reported to work per week as an integer from 20 to 90 (continuous)\n",
    "* <strong>income</strong>: whether or not an individual makes more than \\\\$50,000 annually (label)\n",
    "* <strong>label</strong>: income represented as an integer (0: <=\\\\$50K, 1: >\\\\$50K) (optional label)"
   ]
  },
  {
   "cell_type": "markdown",
   "metadata": {},
   "source": [
    "## Perform standard imports\n",
    "Run the cell below to load the libraries needed for this exercise and the Census Income dataset."
   ]
  },
  {
   "cell_type": "code",
   "execution_count": 18,
   "metadata": {},
   "outputs": [],
   "source": [
    "import torch\n",
    "import torch.nn as nn\n",
    "\n",
    "import numpy as np\n",
    "import pandas as pd\n",
    "import matplotlib.pyplot as plt\n",
    "from sklearn.utils import shuffle\n",
    "%matplotlib inline\n",
    "\n",
    "df = pd.read_csv('../../Data/income.csv')"
   ]
  },
  {
   "cell_type": "code",
   "execution_count": 19,
   "metadata": {
    "scrolled": true
   },
   "outputs": [
    {
     "name": "stdout",
     "output_type": "stream",
     "text": [
      "30000\n"
     ]
    },
    {
     "data": {
      "text/html": [
       "<div>\n",
       "<style scoped>\n",
       "    .dataframe tbody tr th:only-of-type {\n",
       "        vertical-align: middle;\n",
       "    }\n",
       "\n",
       "    .dataframe tbody tr th {\n",
       "        vertical-align: top;\n",
       "    }\n",
       "\n",
       "    .dataframe thead th {\n",
       "        text-align: right;\n",
       "    }\n",
       "</style>\n",
       "<table border=\"1\" class=\"dataframe\">\n",
       "  <thead>\n",
       "    <tr style=\"text-align: right;\">\n",
       "      <th></th>\n",
       "      <th>age</th>\n",
       "      <th>sex</th>\n",
       "      <th>education</th>\n",
       "      <th>education-num</th>\n",
       "      <th>marital-status</th>\n",
       "      <th>workclass</th>\n",
       "      <th>occupation</th>\n",
       "      <th>hours-per-week</th>\n",
       "      <th>income</th>\n",
       "      <th>label</th>\n",
       "    </tr>\n",
       "  </thead>\n",
       "  <tbody>\n",
       "    <tr>\n",
       "      <th>0</th>\n",
       "      <td>27</td>\n",
       "      <td>Male</td>\n",
       "      <td>HS-grad</td>\n",
       "      <td>9</td>\n",
       "      <td>Never-married</td>\n",
       "      <td>Private</td>\n",
       "      <td>Craft-repair</td>\n",
       "      <td>40</td>\n",
       "      <td>&lt;=50K</td>\n",
       "      <td>0</td>\n",
       "    </tr>\n",
       "    <tr>\n",
       "      <th>1</th>\n",
       "      <td>47</td>\n",
       "      <td>Male</td>\n",
       "      <td>Masters</td>\n",
       "      <td>14</td>\n",
       "      <td>Married</td>\n",
       "      <td>Local-gov</td>\n",
       "      <td>Exec-managerial</td>\n",
       "      <td>50</td>\n",
       "      <td>&gt;50K</td>\n",
       "      <td>1</td>\n",
       "    </tr>\n",
       "    <tr>\n",
       "      <th>2</th>\n",
       "      <td>59</td>\n",
       "      <td>Male</td>\n",
       "      <td>HS-grad</td>\n",
       "      <td>9</td>\n",
       "      <td>Divorced</td>\n",
       "      <td>Self-emp</td>\n",
       "      <td>Prof-specialty</td>\n",
       "      <td>20</td>\n",
       "      <td>&lt;=50K</td>\n",
       "      <td>0</td>\n",
       "    </tr>\n",
       "    <tr>\n",
       "      <th>3</th>\n",
       "      <td>38</td>\n",
       "      <td>Female</td>\n",
       "      <td>Prof-school</td>\n",
       "      <td>15</td>\n",
       "      <td>Never-married</td>\n",
       "      <td>Federal-gov</td>\n",
       "      <td>Prof-specialty</td>\n",
       "      <td>57</td>\n",
       "      <td>&gt;50K</td>\n",
       "      <td>1</td>\n",
       "    </tr>\n",
       "    <tr>\n",
       "      <th>4</th>\n",
       "      <td>64</td>\n",
       "      <td>Female</td>\n",
       "      <td>11th</td>\n",
       "      <td>7</td>\n",
       "      <td>Widowed</td>\n",
       "      <td>Private</td>\n",
       "      <td>Farming-fishing</td>\n",
       "      <td>40</td>\n",
       "      <td>&lt;=50K</td>\n",
       "      <td>0</td>\n",
       "    </tr>\n",
       "  </tbody>\n",
       "</table>\n",
       "</div>"
      ],
      "text/plain": [
       "   age     sex    education  education-num marital-status    workclass  \\\n",
       "0   27    Male      HS-grad              9  Never-married      Private   \n",
       "1   47    Male      Masters             14        Married    Local-gov   \n",
       "2   59    Male      HS-grad              9       Divorced     Self-emp   \n",
       "3   38  Female  Prof-school             15  Never-married  Federal-gov   \n",
       "4   64  Female         11th              7        Widowed      Private   \n",
       "\n",
       "        occupation  hours-per-week income  label  \n",
       "0     Craft-repair              40  <=50K      0  \n",
       "1  Exec-managerial              50   >50K      1  \n",
       "2   Prof-specialty              20  <=50K      0  \n",
       "3   Prof-specialty              57   >50K      1  \n",
       "4  Farming-fishing              40  <=50K      0  "
      ]
     },
     "execution_count": 19,
     "metadata": {},
     "output_type": "execute_result"
    }
   ],
   "source": [
    "print(len(df))\n",
    "df.head()"
   ]
  },
  {
   "cell_type": "code",
   "execution_count": 20,
   "metadata": {},
   "outputs": [
    {
     "data": {
      "text/plain": [
       "0    21700\n",
       "1     8300\n",
       "Name: label, dtype: int64"
      ]
     },
     "execution_count": 20,
     "metadata": {},
     "output_type": "execute_result"
    }
   ],
   "source": [
    "df['label'].value_counts()"
   ]
  },
  {
   "cell_type": "markdown",
   "metadata": {},
   "source": [
    "### 1. Separate continuous, categorical and label column names\n",
    "You should find that there are 5 categorical columns, 2 continuous columns and 1 label.<br>\n",
    "In the case of <em>education</em> and <em>education-num</em> it doesn't matter which column you use. For the label column, be sure to use <em>label</em> and not <em>income</em>.<br>\n",
    "Assign the variable names \"cat_cols\", \"cont_cols\" and \"y_col\" to the lists of names."
   ]
  },
  {
   "cell_type": "code",
   "execution_count": 21,
   "metadata": {},
   "outputs": [
    {
     "data": {
      "text/plain": [
       "Index(['age', 'sex', 'education', 'education-num', 'marital-status',\n",
       "       'workclass', 'occupation', 'hours-per-week', 'income', 'label'],\n",
       "      dtype='object')"
      ]
     },
     "execution_count": 21,
     "metadata": {},
     "output_type": "execute_result"
    }
   ],
   "source": [
    "df.columns"
   ]
  },
  {
   "cell_type": "code",
   "execution_count": 22,
   "metadata": {},
   "outputs": [
    {
     "name": "stdout",
     "output_type": "stream",
     "text": [
      "cat_cols  has 5 columns\n",
      "cont_cols has 2 columns\n",
      "y_col     has 1 column\n"
     ]
    }
   ],
   "source": [
    "# CODE HERE\n",
    "\n",
    "cat_cols = ['occupation','workclass', 'marital-status','sex','education']\n",
    "cont_cols = ['hours-per-week', 'age']\n",
    "y_col = ['label']\n",
    "\n",
    "\n",
    "\n",
    "# RUN THIS CODE TO COMPARE RESULTS:\n",
    "print(f'cat_cols  has {len(cat_cols)} columns')\n",
    "print(f'cont_cols has {len(cont_cols)} columns')\n",
    "print(f'y_col     has {len(y_col)} column')"
   ]
  },
  {
   "cell_type": "markdown",
   "metadata": {},
   "source": [
    "### 2. Convert categorical columns to category dtypes"
   ]
  },
  {
   "cell_type": "code",
   "execution_count": 23,
   "metadata": {},
   "outputs": [],
   "source": [
    "for cat in cat_cols:\n",
    "    df[cat] = df[cat].astype('category')"
   ]
  },
  {
   "cell_type": "markdown",
   "metadata": {},
   "source": [
    "### Optional: Shuffle the dataset\n",
    "The <strong>income.csv</strong> dataset is already shuffled. However, if you would like to try different configurations after completing the exercises, this is where you would want to shuffle the entire set."
   ]
  },
  {
   "cell_type": "code",
   "execution_count": 9,
   "metadata": {},
   "outputs": [
    {
     "data": {
      "text/html": [
       "<div>\n",
       "<style scoped>\n",
       "    .dataframe tbody tr th:only-of-type {\n",
       "        vertical-align: middle;\n",
       "    }\n",
       "\n",
       "    .dataframe tbody tr th {\n",
       "        vertical-align: top;\n",
       "    }\n",
       "\n",
       "    .dataframe thead th {\n",
       "        text-align: right;\n",
       "    }\n",
       "</style>\n",
       "<table border=\"1\" class=\"dataframe\">\n",
       "  <thead>\n",
       "    <tr style=\"text-align: right;\">\n",
       "      <th></th>\n",
       "      <th>age</th>\n",
       "      <th>sex</th>\n",
       "      <th>education</th>\n",
       "      <th>education-num</th>\n",
       "      <th>marital-status</th>\n",
       "      <th>workclass</th>\n",
       "      <th>occupation</th>\n",
       "      <th>hours-per-week</th>\n",
       "      <th>income</th>\n",
       "      <th>label</th>\n",
       "    </tr>\n",
       "  </thead>\n",
       "  <tbody>\n",
       "    <tr>\n",
       "      <th>0</th>\n",
       "      <td>23</td>\n",
       "      <td>Female</td>\n",
       "      <td>HS-grad</td>\n",
       "      <td>9</td>\n",
       "      <td>Never-married</td>\n",
       "      <td>Private</td>\n",
       "      <td>Other-service</td>\n",
       "      <td>50</td>\n",
       "      <td>&lt;=50K</td>\n",
       "      <td>0</td>\n",
       "    </tr>\n",
       "    <tr>\n",
       "      <th>1</th>\n",
       "      <td>37</td>\n",
       "      <td>Female</td>\n",
       "      <td>Prof-school</td>\n",
       "      <td>15</td>\n",
       "      <td>Married</td>\n",
       "      <td>State-gov</td>\n",
       "      <td>Prof-specialty</td>\n",
       "      <td>39</td>\n",
       "      <td>&gt;50K</td>\n",
       "      <td>1</td>\n",
       "    </tr>\n",
       "    <tr>\n",
       "      <th>2</th>\n",
       "      <td>34</td>\n",
       "      <td>Male</td>\n",
       "      <td>Some-college</td>\n",
       "      <td>10</td>\n",
       "      <td>Divorced</td>\n",
       "      <td>Private</td>\n",
       "      <td>Adm-clerical</td>\n",
       "      <td>40</td>\n",
       "      <td>&lt;=50K</td>\n",
       "      <td>0</td>\n",
       "    </tr>\n",
       "    <tr>\n",
       "      <th>3</th>\n",
       "      <td>31</td>\n",
       "      <td>Male</td>\n",
       "      <td>HS-grad</td>\n",
       "      <td>9</td>\n",
       "      <td>Married</td>\n",
       "      <td>Private</td>\n",
       "      <td>Craft-repair</td>\n",
       "      <td>40</td>\n",
       "      <td>&gt;50K</td>\n",
       "      <td>1</td>\n",
       "    </tr>\n",
       "    <tr>\n",
       "      <th>4</th>\n",
       "      <td>20</td>\n",
       "      <td>Female</td>\n",
       "      <td>Some-college</td>\n",
       "      <td>10</td>\n",
       "      <td>Never-married</td>\n",
       "      <td>Private</td>\n",
       "      <td>Sales</td>\n",
       "      <td>25</td>\n",
       "      <td>&lt;=50K</td>\n",
       "      <td>0</td>\n",
       "    </tr>\n",
       "  </tbody>\n",
       "</table>\n",
       "</div>"
      ],
      "text/plain": [
       "   age     sex     education  education-num marital-status  workclass  \\\n",
       "0   23  Female       HS-grad              9  Never-married    Private   \n",
       "1   37  Female   Prof-school             15        Married  State-gov   \n",
       "2   34    Male  Some-college             10       Divorced    Private   \n",
       "3   31    Male       HS-grad              9        Married    Private   \n",
       "4   20  Female  Some-college             10  Never-married    Private   \n",
       "\n",
       "       occupation  hours-per-week income  label  \n",
       "0   Other-service              50  <=50K      0  \n",
       "1  Prof-specialty              39   >50K      1  \n",
       "2    Adm-clerical              40  <=50K      0  \n",
       "3    Craft-repair              40   >50K      1  \n",
       "4           Sales              25  <=50K      0  "
      ]
     },
     "execution_count": 9,
     "metadata": {},
     "output_type": "execute_result"
    }
   ],
   "source": [
    "# THIS CELL IS OPTIONAL\n",
    "df = shuffle(df, random_state=101)\n",
    "df.reset_index(drop=True, inplace=True)\n",
    "df.head()"
   ]
  },
  {
   "cell_type": "markdown",
   "metadata": {},
   "source": [
    "### 3. Set the embedding sizes\n",
    "Create a variable \"cat_szs\" to hold the number of categories in each variable.<br>\n",
    "Then create a variable \"emb_szs\" to hold the list of (category size, embedding size) tuples."
   ]
  },
  {
   "cell_type": "code",
   "execution_count": 24,
   "metadata": {},
   "outputs": [
    {
     "data": {
      "text/plain": [
       "[(12, 6), (5, 3), (6, 3), (2, 1), (14, 7)]"
      ]
     },
     "execution_count": 24,
     "metadata": {},
     "output_type": "execute_result"
    }
   ],
   "source": [
    "# CODE HERE\n",
    "\n",
    "cat_szs = [len(df[col].cat.categories) for col in cat_cols]\n",
    "emb_szs = [(size, min(50, (size+1)//2)) for size in cat_szs]\n",
    "emb_szs"
   ]
  },
  {
   "cell_type": "markdown",
   "metadata": {},
   "source": [
    "### 4. Create an array of categorical values\n",
    "Create a NumPy array called \"cats\" that contains a stack of each categorical column <tt>.cat.codes.values</tt><br>\n",
    "Note: your output may contain different values. Ours came after performing the shuffle step shown above."
   ]
  },
  {
   "cell_type": "code",
   "execution_count": 34,
   "metadata": {},
   "outputs": [
    {
     "data": {
      "text/plain": [
       "array([[ 1,  2,  3,  1, 10],\n",
       "       [ 2,  1,  1,  1, 11],\n",
       "       [ 7,  3,  0,  1, 10],\n",
       "       [ 7,  0,  3,  0, 12],\n",
       "       [ 3,  2,  5,  0,  1]], dtype=int8)"
      ]
     },
     "execution_count": 34,
     "metadata": {},
     "output_type": "execute_result"
    }
   ],
   "source": [
    "# CODE HERE\n",
    "\n",
    "stack_list = []\n",
    "for cat in cat_cols:\n",
    "    stack_list.append(\n",
    "        df[cat].cat.codes.values\n",
    "    )\n",
    "cats = np.stack(stack_list, axis = 1)\n",
    "\n",
    "\n",
    "# RUN THIS CODE TO COMPARE RESULTS\n",
    "cats[:5]"
   ]
  },
  {
   "cell_type": "markdown",
   "metadata": {},
   "source": [
    "### 5. Convert \"cats\" to a tensor\n",
    "Convert the \"cats\" NumPy array to a tensor of dtype <tt>int64</tt>"
   ]
  },
  {
   "cell_type": "code",
   "execution_count": 35,
   "metadata": {},
   "outputs": [
    {
     "data": {
      "text/plain": [
       "tensor([[ 1,  2,  3,  1, 10],\n",
       "        [ 2,  1,  1,  1, 11],\n",
       "        [ 7,  3,  0,  1, 10],\n",
       "        [ 7,  0,  3,  0, 12],\n",
       "        [ 3,  2,  5,  0,  1]])"
      ]
     },
     "execution_count": 35,
     "metadata": {},
     "output_type": "execute_result"
    }
   ],
   "source": [
    "# CODE HERE\n",
    "cats = torch.tensor(\n",
    "    cats,\n",
    "    dtype = torch.int64\n",
    ")\n",
    "\n",
    "cats[:5]"
   ]
  },
  {
   "cell_type": "markdown",
   "metadata": {},
   "source": [
    "### 6. Create an array of continuous values\n",
    "Create a NumPy array called \"conts\" that contains a stack of each continuous column.<br>\n",
    "Note: your output may contain different values. Ours came after performing the shuffle step shown above."
   ]
  },
  {
   "cell_type": "code",
   "execution_count": 37,
   "metadata": {},
   "outputs": [
    {
     "data": {
      "text/plain": [
       "array([[40, 27],\n",
       "       [50, 47],\n",
       "       [20, 59],\n",
       "       [57, 38],\n",
       "       [40, 64]], dtype=int64)"
      ]
     },
     "execution_count": 37,
     "metadata": {},
     "output_type": "execute_result"
    }
   ],
   "source": [
    "# CODE HERE\n",
    "\n",
    "stack_list = []\n",
    "for col in cont_cols:\n",
    "    stack_list.append(\n",
    "        df[col].values\n",
    "    )\n",
    "conts = np.stack(stack_list, axis = 1)\n",
    "\n",
    "# RUN THIS CODE TO COMPARE RESULTS\n",
    "conts[:5]"
   ]
  },
  {
   "cell_type": "markdown",
   "metadata": {},
   "source": [
    "### 7. Convert \"conts\" to a tensor\n",
    "Convert the \"conts\" NumPy array to a tensor of dtype <tt>float32</tt>"
   ]
  },
  {
   "cell_type": "code",
   "execution_count": 38,
   "metadata": {},
   "outputs": [
    {
     "data": {
      "text/plain": [
       "torch.float32"
      ]
     },
     "execution_count": 38,
     "metadata": {},
     "output_type": "execute_result"
    }
   ],
   "source": [
    "# CODE HERE\n",
    "conts = torch.tensor(conts, dtype=torch.float)\n",
    "\n",
    "# RUN THIS CODE TO COMPARE RESULTS\n",
    "conts.dtype"
   ]
  },
  {
   "cell_type": "markdown",
   "metadata": {},
   "source": [
    "### 8. Create a label tensor\n",
    "Create a tensor called \"y\" from the values in the label column. Be sure to flatten the tensor so that it can be passed into the CE Loss function."
   ]
  },
  {
   "cell_type": "code",
   "execution_count": 39,
   "metadata": {},
   "outputs": [],
   "source": [
    "# CODE HERE\n",
    "y = torch.tensor(df[y_col].values).flatten()"
   ]
  },
  {
   "cell_type": "code",
   "execution_count": 11,
   "metadata": {},
   "outputs": [],
   "source": [
    "# DON'T WRITE HERE"
   ]
  },
  {
   "cell_type": "markdown",
   "metadata": {},
   "source": [
    "### 9. Create train and test sets from <tt>cats</tt>, <tt>conts</tt>, and <tt>y</tt>\n",
    "We use the entire batch of 30,000 records, but a smaller batch size will save time during training.<br>\n",
    "We used a test size of 5,000 records, but you can choose another fixed value or a percentage of the batch size.<br>\n",
    "Make sure that your test records remain separate from your training records, without overlap.<br>\n",
    "To make coding slices easier, we recommend assigning batch and test sizes to simple variables like \"b\" and \"t\"."
   ]
  },
  {
   "cell_type": "code",
   "execution_count": 41,
   "metadata": {},
   "outputs": [],
   "source": [
    "# CODE HERE\n",
    "b = 30000 # suggested batch size\n",
    "t = 5000  # suggested test size\n",
    "\n",
    "cat_train = cats[: b - t]\n",
    "cat_test = cats[b-t : b]\n",
    "con_train = conts[: b - t]\n",
    "con_test = conts[b-t : b]\n",
    "y_train = y[: b - t]\n",
    "y_test = y[b-t : b]"
   ]
  },
  {
   "cell_type": "markdown",
   "metadata": {},
   "source": [
    "### Define the model class\n",
    "Run the cell below to define the TabularModel model class we've used before."
   ]
  },
  {
   "cell_type": "code",
   "execution_count": 42,
   "metadata": {},
   "outputs": [],
   "source": [
    "class TabularModel(nn.Module):\n",
    "\n",
    "    def __init__(self, emb_szs, n_cont, out_sz, layers, p=0.5):\n",
    "        # Call the parent __init__\n",
    "        super().__init__()\n",
    "        \n",
    "        # Set up the embedding, dropout, and batch normalization layer attributes\n",
    "        self.embeds = nn.ModuleList([nn.Embedding(ni, nf) for ni,nf in emb_szs])\n",
    "        self.emb_drop = nn.Dropout(p)\n",
    "        self.bn_cont = nn.BatchNorm1d(n_cont)\n",
    "        \n",
    "        # Assign a variable to hold a list of layers\n",
    "        layerlist = []\n",
    "        \n",
    "        # Assign a variable to store the number of embedding and continuous layers\n",
    "        n_emb = sum((nf for ni,nf in emb_szs))\n",
    "        n_in = n_emb + n_cont\n",
    "        \n",
    "        # Iterate through the passed-in \"layers\" parameter (ie, [200,100]) to build a list of layers\n",
    "        for i in layers:\n",
    "            layerlist.append(nn.Linear(n_in,i)) \n",
    "            layerlist.append(nn.ReLU(inplace=True))\n",
    "            layerlist.append(nn.BatchNorm1d(i))\n",
    "            layerlist.append(nn.Dropout(p))\n",
    "            n_in = i\n",
    "        layerlist.append(nn.Linear(layers[-1],out_sz))\n",
    "        \n",
    "        # Convert the list of layers into an attribute\n",
    "        self.layers = nn.Sequential(*layerlist)\n",
    "    \n",
    "    def forward(self, x_cat, x_cont):\n",
    "        # Extract embedding values from the incoming categorical data\n",
    "        embeddings = []\n",
    "        for i,e in enumerate(self.embeds):\n",
    "            embeddings.append(e(x_cat[:,i]))\n",
    "        x = torch.cat(embeddings, 1)\n",
    "        # Perform an initial dropout on the embeddings\n",
    "        x = self.emb_drop(x)\n",
    "        \n",
    "        # Normalize the incoming continuous data\n",
    "        x_cont = self.bn_cont(x_cont)\n",
    "        x = torch.cat([x, x_cont], 1)\n",
    "        \n",
    "        # Set up model layers\n",
    "        x = self.layers(x)\n",
    "        return x"
   ]
  },
  {
   "cell_type": "markdown",
   "metadata": {},
   "source": [
    "### 10. Set the random seed\n",
    "To obtain results that can be recreated, set a torch manual_seed (we used 33)."
   ]
  },
  {
   "cell_type": "code",
   "execution_count": 43,
   "metadata": {},
   "outputs": [
    {
     "data": {
      "text/plain": [
       "<torch._C.Generator at 0x1780b917c90>"
      ]
     },
     "execution_count": 43,
     "metadata": {},
     "output_type": "execute_result"
    }
   ],
   "source": [
    "# CODE HERE\n",
    "torch.manual_seed(33)\n"
   ]
  },
  {
   "cell_type": "markdown",
   "metadata": {},
   "source": [
    "### 11. Create a TabularModel instance\n",
    "Create an instance called \"model\" with one hidden layer containing 50 neurons and a dropout layer p-value of 0.4"
   ]
  },
  {
   "cell_type": "code",
   "execution_count": 46,
   "metadata": {},
   "outputs": [
    {
     "data": {
      "text/plain": [
       "TabularModel(\n",
       "  (embeds): ModuleList(\n",
       "    (0): Embedding(12, 6)\n",
       "    (1): Embedding(5, 3)\n",
       "    (2): Embedding(6, 3)\n",
       "    (3): Embedding(2, 1)\n",
       "    (4): Embedding(14, 7)\n",
       "  )\n",
       "  (emb_drop): Dropout(p=0.4, inplace=False)\n",
       "  (bn_cont): BatchNorm1d(2, eps=1e-05, momentum=0.1, affine=True, track_running_stats=True)\n",
       "  (layers): Sequential(\n",
       "    (0): Linear(in_features=22, out_features=50, bias=True)\n",
       "    (1): ReLU(inplace=True)\n",
       "    (2): BatchNorm1d(50, eps=1e-05, momentum=0.1, affine=True, track_running_stats=True)\n",
       "    (3): Dropout(p=0.4, inplace=False)\n",
       "    (4): Linear(in_features=50, out_features=2, bias=True)\n",
       "  )\n",
       ")"
      ]
     },
     "execution_count": 46,
     "metadata": {},
     "output_type": "execute_result"
    }
   ],
   "source": [
    "# CODE HERE\n",
    "model = TabularModel(emb_szs, conts.shape[1], 2, [50], p =.4)\n",
    "\n",
    "# RUN THIS CODE TO COMPARE RESULTS\n",
    "model"
   ]
  },
  {
   "cell_type": "markdown",
   "metadata": {},
   "source": [
    "### 12. Define the loss and optimization functions\n",
    "Create a loss function called \"criterion\" using CrossEntropyLoss<br>\n",
    "Create an optimization function called \"optimizer\" using Adam, with a learning rate of 0.001"
   ]
  },
  {
   "cell_type": "code",
   "execution_count": 47,
   "metadata": {},
   "outputs": [],
   "source": [
    "# CODE HERE\n",
    "criterion = nn.CrossEntropyLoss()\n",
    "optimizer = torch.optim.Adam(model.parameters(), lr = .001)"
   ]
  },
  {
   "cell_type": "markdown",
   "metadata": {},
   "source": [
    "### Train the model\n",
    "Run the cell below to train the model through 300 epochs. Remember, results may vary!<br>\n",
    "After completing the exercises, feel free to come back to this section and experiment with different parameters."
   ]
  },
  {
   "cell_type": "code",
   "execution_count": 48,
   "metadata": {},
   "outputs": [
    {
     "name": "stdout",
     "output_type": "stream",
     "text": [
      "epoch:   1  loss: 0.87941307\n",
      "epoch:  26  loss: 0.61466914\n",
      "epoch:  51  loss: 0.53313380\n",
      "epoch:  76  loss: 0.48111239\n",
      "epoch: 101  loss: 0.45143914\n",
      "epoch: 126  loss: 0.42591286\n",
      "epoch: 151  loss: 0.40011594\n",
      "epoch: 176  loss: 0.38537019\n",
      "epoch: 201  loss: 0.36588806\n",
      "epoch: 226  loss: 0.35670677\n",
      "epoch: 251  loss: 0.34438547\n",
      "epoch: 276  loss: 0.34080595\n",
      "epoch: 300  loss: 0.33240780\n",
      "\n",
      "Duration: 95 seconds\n"
     ]
    }
   ],
   "source": [
    "import time\n",
    "start_time = time.time()\n",
    "\n",
    "epochs = 300\n",
    "losses = []\n",
    "\n",
    "for i in range(epochs):\n",
    "    i+=1\n",
    "    y_pred = model(cat_train, con_train)\n",
    "    loss = criterion(y_pred, y_train)\n",
    "    losses.append(loss)\n",
    "    \n",
    "    # a neat trick to save screen space:\n",
    "    if i%25 == 1:\n",
    "        print(f'epoch: {i:3}  loss: {loss.item():10.8f}')\n",
    "\n",
    "    optimizer.zero_grad()\n",
    "    loss.backward()\n",
    "    optimizer.step()\n",
    "\n",
    "print(f'epoch: {i:3}  loss: {loss.item():10.8f}') # print the last line\n",
    "print(f'\\nDuration: {time.time() - start_time:.0f} seconds') # print the time elapsed"
   ]
  },
  {
   "cell_type": "markdown",
   "metadata": {},
   "source": [
    "### 13. Plot the Cross Entropy Loss against epochs\n",
    "Results may vary. The shape of the plot is what matters."
   ]
  },
  {
   "cell_type": "code",
   "execution_count": 49,
   "metadata": {},
   "outputs": [
    {
     "data": {
      "text/plain": [
       "Text(0.5, 0, 'epoch')"
      ]
     },
     "execution_count": 49,
     "metadata": {},
     "output_type": "execute_result"
    },
    {
     "data": {
      "image/png": "[encoded data removed]",
      "text/plain": [
       "<Figure size 640x480 with 1 Axes>"
      ]
     },
     "metadata": {},
     "output_type": "display_data"
    }
   ],
   "source": [
    "# CODE HERE\n",
    "\n",
    "plt.plot(range(epochs), losses)\n",
    "plt.ylabel('Cross Entropy Loss')\n",
    "plt.xlabel('epoch')\n"
   ]
  },
  {
   "cell_type": "markdown",
   "metadata": {},
   "source": [
    "### 14. Evaluate the test set\n",
    "With torch set to <tt>no_grad</tt>, pass <tt>cat_test</tt> and <tt>con_test</tt> through the trained model. Create a validation set called \"y_val\". Compare the output to <tt>y_test</tt> using the loss function defined above. Results may vary."
   ]
  },
  {
   "cell_type": "code",
   "execution_count": 50,
   "metadata": {},
   "outputs": [
    {
     "name": "stdout",
     "output_type": "stream",
     "text": [
      "CE Loss: 0.33350629\n",
      "CE Loss: 0.33350629\n"
     ]
    }
   ],
   "source": [
    "# CODE HERE\n",
    "with torch.no_grad():\n",
    "    y_val = model(cat_test, con_test)\n",
    "    loss = criterion(y_val,y_test)\n",
    "print(f'CE Loss: {loss:.8f}')\n"
   ]
  },
  {
   "cell_type": "markdown",
   "metadata": {},
   "source": [
    "### 15. Calculate the overall percent accuracy\n",
    "Using a for loop, compare the argmax values of the <tt>y_val</tt> validation set to the <tt>y_test</tt> set."
   ]
  },
  {
   "cell_type": "code",
   "execution_count": 54,
   "metadata": {},
   "outputs": [
    {
     "name": "stdout",
     "output_type": "stream",
     "text": [
      "\n",
      "4253 out of 5000 = 85.06% correct\n"
     ]
    }
   ],
   "source": [
    "# CODE HERE\n",
    "\n",
    "\n",
    "rows = 5000 \n",
    "correct = 0\n",
    "for i in range(rows):\n",
    "    if y_val[i].argmax().item() == y_test[i]:\n",
    "        correct += 1\n",
    "print(f'\\n{correct} out of {rows} = {100*correct/rows:.2f}% correct')\n",
    "\n",
    "\n"
   ]
  },
  {
   "cell_type": "markdown",
   "metadata": {},
   "source": [
    "### BONUS: Feed new data through the trained model\n",
    "See if you can write a function that allows a user to input their own values, and generates a prediction.<br>\n",
    "<strong>HINT</strong>:<br>There's no need to build a DataFrame. You can use inputs to populate column variables, convert them to embeddings with a context dictionary, and pass the embedded values directly into the tensor constructors:<br>\n",
    "<pre>mar = input(\"What is the person's marital status? \")\n",
    "mar_d = dict(Divorced=0, Married=1, Married-spouse-absent=2, Never-married=3, Separated=4, Widowed=5)\n",
    "mar = mar_d[mar]\n",
    "cats = torch.tensor([..., ..., mar, ..., ...], dtype=torch.int64).reshape(1,-1)</pre>\n",
    "Make sure that names are put in alphabetical order before assigning numbers.\n",
    "\n",
    "Also, be sure to run <tt>model.eval()</tt> before passing new date through. Good luck!"
   ]
  },
  {
   "cell_type": "code",
   "execution_count": 56,
   "metadata": {},
   "outputs": [
    {
     "data": {
      "text/plain": [
       "['occupation', 'workclass', 'marital-status', 'sex', 'education']"
      ]
     },
     "execution_count": 56,
     "metadata": {},
     "output_type": "execute_result"
    }
   ],
   "source": [
    "cat_cols"
   ]
  },
  {
   "cell_type": "code",
   "execution_count": 67,
   "metadata": {},
   "outputs": [
    {
     "data": {
      "text/plain": [
       "[Craft-repair, Exec-managerial, Prof-specialty, Farming-fishing, Handlers-cleaners, ..., Other-service, Sales, Tech-support, Protective-serv, Transport-moving]\n",
       "Length: 12\n",
       "Categories (12, object): [Craft-repair, Exec-managerial, Prof-specialty, Farming-fishing, ..., Sales, Tech-support, Protective-serv, Transport-moving]"
      ]
     },
     "execution_count": 67,
     "metadata": {},
     "output_type": "execute_result"
    }
   ],
   "source": [
    "df['occupation'].unique()"
   ]
  },
  {
   "cell_type": "code",
   "execution_count": 57,
   "metadata": {},
   "outputs": [
    {
     "data": {
      "text/plain": [
       "['hours-per-week', 'age']"
      ]
     },
     "execution_count": 57,
     "metadata": {},
     "output_type": "execute_result"
    }
   ],
   "source": [
    "cont_cols"
   ]
  },
  {
   "cell_type": "code",
   "execution_count": 71,
   "metadata": {},
   "outputs": [
    {
     "data": {
      "text/plain": [
       "['occupation', 'workclass', 'marital-status', 'sex', 'education']"
      ]
     },
     "execution_count": 71,
     "metadata": {},
     "output_type": "execute_result"
    }
   ],
   "source": [
    "cat_cols"
   ]
  },
  {
   "cell_type": "code",
   "execution_count": 72,
   "metadata": {},
   "outputs": [],
   "source": [
    "cat_maps = {}\n",
    "for cat in cat_cols:\n",
    "    cat_maps[cat] = {\n",
    "        val: idx for idx, val in enumerate(df[cat].unique())\n",
    "    }"
   ]
  },
  {
   "cell_type": "code",
   "execution_count": 74,
   "metadata": {},
   "outputs": [
    {
     "data": {
      "text/plain": [
       "dict_keys(['occupation', 'workclass', 'marital-status', 'sex', 'education'])"
      ]
     },
     "execution_count": 74,
     "metadata": {},
     "output_type": "execute_result"
    }
   ],
   "source": [
    "cat_maps.keys()"
   ]
  },
  {
   "cell_type": "code",
   "execution_count": 90,
   "metadata": {},
   "outputs": [
    {
     "data": {
      "text/plain": [
       "HS-grad         9610\n",
       "Some-college    6641\n",
       "Bachelors       5422\n",
       "Masters         1803\n",
       "Assoc-voc       1201\n",
       "11th             997\n",
       "Assoc-acdm       982\n",
       "10th             735\n",
       "Prof-school      626\n",
       "7th-8th          483\n",
       "9th              466\n",
       "12th             376\n",
       "Doctorate        366\n",
       "5th-6th          292\n",
       "Name: education, dtype: int64"
      ]
     },
     "execution_count": 90,
     "metadata": {},
     "output_type": "execute_result"
    }
   ],
   "source": [
    "df['education'].value_counts()"
   ]
  },
  {
   "cell_type": "code",
   "execution_count": 98,
   "metadata": {},
   "outputs": [],
   "source": [
    "def test_data(mdl, df): # pass in the name of the new model and the dataframe for mappings\n",
    "    # INPUT NEW DATA\n",
    "    \n",
    "    cat_cols = ['occupation', 'workclass', 'marital-status', 'sex', 'education']\n",
    "    cont_cols = ['hours-per-week', 'age']\n",
    "    \n",
    "    # Generate mappings based on your dataframe\n",
    "    cat_maps = {\n",
    "        cat: {val: idx for idx, val in enumerate(df[cat].unique())}\n",
    "        for cat in cat_cols\n",
    "    }\n",
    "    \n",
    "    # Collect new data from user\n",
    "    occupation = input('What is the person\\'s occupation? ')\n",
    "    workclass = input('What is the person\\'s workclass? ')\n",
    "    mar = input('What is the person\\'s marital-status? ')\n",
    "    sex = input('What is the person\\'s sex? (Male/Female) ').capitalize()\n",
    "    \n",
    "    # Directly ask for the education level as it appears in your dataset (e.g., \"HS-grad\")\n",
    "    education = input('Enter the person\\'s education exactly as it appears in the dataset (e.g., HS-grad, Bachelors): ')\n",
    "    \n",
    "    hpw = float(input('How many hours-per-week does the person work (20-90)? '))\n",
    "    age = float(input('What is the age of the person (18-90)? '))\n",
    "    \n",
    "    # PREPROCESS THE DATA\n",
    "    dfx_dict = {\n",
    "        'occupation': occupation,\n",
    "        'workclass': workclass,\n",
    "        'marital-status': mar,\n",
    "        'sex': sex,\n",
    "        'education': education,\n",
    "        'hours-per-week': hpw,\n",
    "        'age': age\n",
    "    }\n",
    "    dfx = pd.DataFrame(dfx_dict, index=[0])\n",
    "    \n",
    "    # Map categorical data using generated mappings\n",
    "    for cat in cat_cols:\n",
    "        if cat in dfx.columns and cat in cat_maps:\n",
    "            mapped_value = dfx[cat].map(cat_maps[cat])\n",
    "            if mapped_value.isna().any():\n",
    "                print(f\"Unrecognized {cat}: {dfx[cat].iloc[0]}. Please check your input and try again.\")\n",
    "                return\n",
    "            dfx[cat] = mapped_value.astype(int)\n",
    "    \n",
    "    # CREATE CAT AND CONT TENSORS\n",
    "    xcats = np.stack([dfx[col].values for col in cat_cols], 1)\n",
    "    xcats = torch.tensor(xcats, dtype=torch.int64)\n",
    "    xconts = np.stack([dfx[col].values for col in cont_cols], 1)\n",
    "    xconts = torch.tensor(xconts, dtype=torch.float)\n",
    "    \n",
    "    # SET MODEL TO EVAL MODE\n",
    "    mdl.eval()\n",
    "    \n",
    "    # PASS NEW DATA THROUGH THE MODEL WITHOUT PERFORMING A BACKPROP\n",
    "    with torch.no_grad():\n",
    "        z = mdl(xcats, xconts).argmax().item()\n",
    "    print(f'\\nThe predicted class is {z}')\n"
   ]
  },
  {
   "cell_type": "code",
   "execution_count": 100,
   "metadata": {
    "scrolled": true
   },
   "outputs": [
    {
     "data": {
      "text/plain": [
       "{'Craft-repair': 0,\n",
       " 'Exec-managerial': 1,\n",
       " 'Prof-specialty': 2,\n",
       " 'Farming-fishing': 3,\n",
       " 'Handlers-cleaners': 4,\n",
       " 'Machine-op-inspct': 5,\n",
       " 'Adm-clerical': 6,\n",
       " 'Other-service': 7,\n",
       " 'Sales': 8,\n",
       " 'Tech-support': 9,\n",
       " 'Protective-serv': 10,\n",
       " 'Transport-moving': 11}"
      ]
     },
     "execution_count": 100,
     "metadata": {},
     "output_type": "execute_result"
    }
   ],
   "source": [
    "cat_maps['occupation']"
   ]
  },
  {
   "cell_type": "code",
   "execution_count": 101,
   "metadata": {},
   "outputs": [
    {
     "name": "stdout",
     "output_type": "stream",
     "text": [
      "What is the person's occupation? Sales\n",
      "What is the person's workclass? Private\n",
      "What is the person's marital-status? Married\n",
      "What is the person's sex? (Male/Female) Male\n",
      "Enter the person's education exactly as it appears in the dataset (e.g., HS-grad, Bachelors): 12th\n",
      "How many hours-per-week does the person work (20-90)? 40\n",
      "What is the age of the person (18-90)? 22\n",
      "\n",
      "The predicted class is 0\n"
     ]
    }
   ],
   "source": [
    "# RUN YOUR CODE HERE:\n",
    "test_data(model, df)"
   ]
  },
  {
   "cell_type": "markdown",
   "metadata": {},
   "source": [
    "## Great job!"
   ]
  }
 ],
 "metadata": {
  "hide_input": false,
  "kernelspec": {
   "display_name": "Python 3 (ipykernel)",
   "language": "python",
   "name": "python3"
  },
  "language_info": {
   "codemirror_mode": {
    "name": "ipython",
    "version": 3
   },
   "file_extension": ".py",
   "mimetype": "text/x-python",
   "name": "python",
   "nbconvert_exporter": "python",
   "pygments_lexer": "ipython3",
   "version": "3.7.3"
  }
 },
 "nbformat": 4,
 "nbformat_minor": 2
}
