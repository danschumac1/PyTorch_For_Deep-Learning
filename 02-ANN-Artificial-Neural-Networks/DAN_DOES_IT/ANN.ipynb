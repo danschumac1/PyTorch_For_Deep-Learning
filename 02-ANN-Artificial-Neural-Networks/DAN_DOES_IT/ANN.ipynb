{
 "cells": [
  {
   "cell_type": "code",
   "execution_count": 2,
   "id": "bea531fd",
   "metadata": {},
   "outputs": [],
   "source": [
    "import torch\n",
    "import torch.nn as nn\n",
    "import torch.nn.functional as F"
   ]
  },
  {
   "cell_type": "code",
   "execution_count": 3,
   "id": "3fa538a0",
   "metadata": {},
   "outputs": [],
   "source": [
    "# create a model class\n",
    "\n",
    "# inherit MODULE\n",
    "class Model(nn.Module):\n",
    "    \n",
    "    # method 1\n",
    "    def __init__(self, in_features = 4, h1 = 8, h2 = 9, out_features = 3):\n",
    "        # inherit (call the nn.Module init method)\n",
    "        super().__init__()\n",
    "        \n",
    "        # Input layer (4-features) --> h1 N --> h2 N --> output (3-classes)\n",
    "        self.fc1 = nn.Linear(in_features, h1)\n",
    "        self.fc2 = nn.Linear(h1, h2)\n",
    "        self.out = nn.Linear(h2, out_features)\n",
    "            \n",
    "    # method 2\n",
    "    def __forward(self, x):\n",
    "        x = F.relu(self.fc1(x))\n",
    "        x = F.relu(self.fc2(x))\n",
    "        x = self.out(x)\n",
    "        \n",
    "        return x\n",
    "        "
   ]
  },
  {
   "cell_type": "code",
   "execution_count": null,
   "id": "72c4ef74",
   "metadata": {},
   "outputs": [],
   "source": [
    "t"
   ]
  }
 ],
 "metadata": {
  "hide_input": false,
  "kernelspec": {
   "display_name": "Python 3 (ipykernel)",
   "language": "python",
   "name": "python3"
  },
  "language_info": {
   "codemirror_mode": {
    "name": "ipython",
    "version": 3
   },
   "file_extension": ".py",
   "mimetype": "text/x-python",
   "name": "python",
   "nbconvert_exporter": "python",
   "pygments_lexer": "ipython3",
   "version": "3.7.3"
  }
 },
 "nbformat": 4,
 "nbformat_minor": 5
}
